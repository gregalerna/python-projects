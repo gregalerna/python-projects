{
 "cells": [
  {
   "cell_type": "markdown",
   "metadata": {},
   "source": [
    "### Solving the pendulum equation using the Runge Kutta method\n",
    "\n",
    "_Author: Jorge Vera Moreno_\n",
    "\n",
    "The pendulum experiences a torque\n",
    "$$\n",
    "  \\tau_p = MgL \\sin(\\theta),\n",
    "$$\n",
    "\n",
    "and we also know that the torque of a rigid body is  given by\n",
    "\n",
    "$$\n",
    "  \\tau = I \\alpha,\n",
    "$$\n",
    "\n",
    "where $I$ is the moment of inertia and $\\alpha$ the angular\n",
    "acceleration. These are given by\n",
    "\n",
    "$$\n",
    "  I = ML^2 \\qquad \\text{and} \\qquad  \\alpha = \\frac{d\\omega}{dt} = \\frac{d^2\\theta}{dt^2},\n",
    "$$\n",
    "\n",
    "where $\\omega$ is the angular velocity.\n",
    "We can then rewrite the equation for the torque in terms of the\n",
    "angular position of the pendulum (note that a minus sign appears because the torque and the angle are measured in opposite directions):\n",
    "\n",
    "$$\n",
    "  \\tau_p = - I \\frac{d^2\\theta}{dt^2}.\n",
    "$$\n",
    "\n",
    "Substituting and rearranging gives us the equation of motion for\n",
    "the pendulum:\n",
    "\n",
    "$$\n",
    "  \\frac{d^2\\theta}{dt^2} = - \\frac{MgL}{I} \\sin(\\theta) = - \\frac{g}{L}\n",
    "  \\sin(\\theta),\n",
    "$$\n",
    "\n",
    " which tells us that the bob accelerates towards the rest point at $\\theta = 0$, and that the acceleration is dependent on the sine of the angle of displacement.\n",
    "\n",
    " We can separate out into two first-order equations, where the two variables are now the angle $\\theta$ and the angular velocity $\\omega$.\n",
    "\n",
    "$$ \\frac{d \\theta}{d t} = \\omega$$\n",
    "\n",
    "$$ \\frac{d \\omega}{dt} = -\\frac{g}{L}\\sin\\theta $$\n",
    "\n",
    "This set of ODEs can be solved using the Runge Kutta method. Here we will use the fourth-order Runge Kutta method, considered to have the most useful combination of simplicity and accuracy, and is the most widely used method to solve differential equations numerically.\n",
    "\n",
    "First, we will import NumPy and Matplotlib:"
   ]
  },
  {
   "cell_type": "code",
   "execution_count": 1,
   "metadata": {
    "collapsed": true
   },
   "outputs": [],
   "source": [
    "import numpy as np\n",
    "import matplotlib.pyplot as plt\n",
    "%matplotlib inline"
   ]
  },
  {
   "cell_type": "markdown",
   "metadata": {},
   "source": [
    "We're going to write a python function to represent our equation\n",
    "\n",
    "$$ \\frac{d \\mathbf{r}}{dt} = {\\mathbf f}({\\mathbf r},t),$$\n",
    "\n",
    "Whereas before our function depended on $x(t)$ and $t$, now it depends on a vector ${\\mathbf r}(t)$ and $t$:"
   ]
  },
  {
   "cell_type": "code",
   "execution_count": 2,
   "metadata": {
    "collapsed": true
   },
   "outputs": [],
   "source": [
    "def f(r,t): \n",
    "    '''Definition of the vector function to be solved\n",
    "    for particle fixed to a pivot subject to gravitational acceleration.\n",
    "    Inputs are r (a vector) and t'''\n",
    "    theta = r[0] # first element of r represents the angular position of the particle\n",
    "    omega = r[1] # second element of r represents the angular velocity of the particle\n",
    "    dthetadt = omega # Derivative of ang. position wrt to time is angular velocity\n",
    "    domegadt = -g*np.sin(theta)/L # Derivative of ang. velocity wrt time is -g*sin(theta)/*L\n",
    "    return np.array([dthetadt,domegadt]) # convert dthetadt and domegadt to an array form"
   ]
  },
  {
   "cell_type": "code",
   "execution_count": 3,
   "metadata": {
    "collapsed": true
   },
   "outputs": [],
   "source": [
    "def RungeKutta2d(funct,r,tpoints):\n",
    "    '''Fourth-order Runge-Kutta rewritten for two simultaneous equations\n",
    "    Inputs: r: 2-component array , first component is ang. position, second ang. velocity\n",
    "            tpoints: array of time values.\n",
    "    Outputs: [xpoints, ypoints]: solutions for theta(t) and omega(t), numpy arrays of same length as tpoints'''\n",
    "    xpoints = [] # initialise empty arrays\n",
    "    ypoints = []\n",
    "    for t in tpoints:\n",
    "        xpoints.append(r[0])\n",
    "        ypoints.append(r[1])\n",
    "        # The following is the same as before, with x->r\n",
    "        k1 = h*funct(r,t) \n",
    "        k2 = h*funct(r+0.5*k1, t+0.5*h)\n",
    "        k3 = h*funct(r+0.5*k2, t+0.5*h)\n",
    "        k4 = h*funct(r+k3, t+h)\n",
    "        r = r + (k1 + 2*k2 + 2*k3 + k4)/6\n",
    "    return np.array([xpoints, ypoints]) # convert output to numpy array with 2 rows and N columns"
   ]
  },
  {
   "cell_type": "markdown",
   "metadata": {},
   "source": [
    "When we call the 'RungeKutta2d' function, it returns an array. The first row contains the results for $\\theta(t)$ and the second row $\\omega(t)$. Now we can go ahead and plot these:"
   ]
  },
  {
   "cell_type": "code",
   "execution_count": 7,
   "metadata": {
    "collapsed": false
   },
   "outputs": [
    {
     "name": "stdout",
     "output_type": "stream",
     "text": [
      "ERROR! Session/line number was not unique in database. History logging moved to new session 392\n"
     ]
    },
    {
     "data": {
      "image/png": "[encoded data removed]",
      "text/plain": [
       "<matplotlib.figure.Figure at 0x7305908>"
      ]
     },
     "metadata": {},
     "output_type": "display_data"
    }
   ],
   "source": [
    "g = 9.8 # gravitational acceleration in m/s^2\n",
    "L=1 #length of string\n",
    "\n",
    "tstart = 0.0\n",
    "tend = 20.0 # solve for a period of 20 seconds.\n",
    "N = 1000 # number of points for Runge-Kutta\n",
    "h = (tend - tstart)/N #step size\n",
    "\n",
    "tpoints = np.arange(tstart, tend, h) #time domain\n",
    "\n",
    "# define the initial conditions\n",
    "initialTheta = 0.99*np.pi # initial ang. position, in radians\n",
    "intialOmega = 0 # initial ang. velocity in rad/s.\n",
    "r = np.array([initialTheta, intialOmega])\n",
    "\n",
    "rsol = RungeKutta2d(f,r,tpoints) # this will be an array of the x and y solutions\n",
    "\n",
    "plt.plot(tpoints,rsol[0],label=r\"Angle\")\n",
    "plt.plot(tpoints,rsol[1],'r',label=r\"Velocity\")\n",
    "plt.legend()\n",
    "plt.axhline(c=\"k\",ls=\":\", lw=0.5) # draw black dotted line at y (or v_y) = 0\n",
    "plt.xlabel(\"Time (s)\");\n",
    "plt.title(\"Angular displacement and velocity of a pendulum\")\n",
    "plt.grid()"
   ]
  },
  {
   "cell_type": "markdown",
   "metadata": {},
   "source": [
    "With the $\\sin \\theta \\approx \\theta$ approximation, the angular velocity for large angles is lower (i.e. the real pendulum takes a longer time to fall when approaching $90^{\\circ}$). The approximation also leads to think that the angular velocity has the same functional form as angular displacement, but out of phase and with different amplitude, but here the angular velocity is a completely different function, with much sharper maxima.\n",
    "\n",
    "We can now try to solve the damped pendulum equation:\n",
    "$$\n",
    "\\frac{d \\omega}{dt}  = -\\frac{g}{L}\\sin(\\theta)  - \\frac{c \\omega}{M L^2}\n",
    "$$\n",
    "\n",
    "We proceed as before, definining the 'damped' function to our equation. We will use $c=0.1$ and $M=0.1\\: \\mathbf{kg}$"
   ]
  },
  {
   "cell_type": "code",
   "execution_count": 5,
   "metadata": {
    "collapsed": true
   },
   "outputs": [],
   "source": [
    "def damped(r,t): \n",
    "    '''Definition of the vector function to be solved\n",
    "    for particle fixed to a pivot subject to gravitational acceleration (with damping)\n",
    "    Inputs are r (a vector) and t'''\n",
    "    theta = r[0] # first element of r represents the angular position of the particle\n",
    "    omega = r[1] # second element of r represents the angular velocity of the particle\n",
    "    dthetadt = omega # Derivative of ang. position wrt to time is angular velocity\n",
    "    domegadt = -g*np.sin(theta)/L -c*omega/(M*L**2) # Derivative of ang. velocity wrt time is -g*sin(theta)/*L\n",
    "    return np.array([dthetadt,domegadt]) # convert dthetadt and domegadt to an array form"
   ]
  },
  {
   "cell_type": "code",
   "execution_count": 9,
   "metadata": {
    "collapsed": false
   },
   "outputs": [
    {
     "data": {
      "image/png": "[encoded data removed]",
      "text/plain": [
       "<matplotlib.figure.Figure at 0x7be63c8>"
      ]
     },
     "metadata": {},
     "output_type": "display_data"
    }
   ],
   "source": [
    "c=0.05 #damping coefficient\n",
    "M=0.1 #mass of the bob\n",
    "rsol_d = RungeKutta2d(damped,r,tpoints) # this will be an array of the x and y solutions\n",
    "plt.plot(tpoints,rsol_d[0],label=r\"Angle\")\n",
    "plt.plot(tpoints,rsol_d[1],'r',label=r\"Velocity\")\n",
    "plt.legend()\n",
    "plt.axhline(c=\"k\",ls=\":\", lw=0.5) # draw black dotted line at y (or v_y) = 0\n",
    "plt.xlabel(\"Time (s)\");\n",
    "plt.title(\"Angular displacement and velocity of a pendulum\")\n",
    "plt.grid()"
   ]
  },
  {
   "cell_type": "markdown",
   "metadata": {},
   "source": [
    "We can now use our solutions to represent both pendulums in a Vpython animation. In the following animation, the pendulum with the red rod is undamped, whereas the one with the green rod is damped. By increasing the value of $c$, the damped pendulum can go from underdamped to critical damping, and eventually overdamped. In addition, the angular frequency of the damped pendulum also depends on the mass of the bob, while that isn't the case for the undamped one. In any case, the damped pendulum eventually stops oscillating whereas the undamped goes on:"
   ]
  },
  {
   "cell_type": "code",
   "execution_count": 8,
   "metadata": {
    "collapsed": false
   },
   "outputs": [
    {
     "data": {
      "application/javascript": [
       "require.undef(\"nbextensions/vpython_libraries/glow.min\");"
      ],
      "text/plain": [
       "<IPython.core.display.Javascript object>"
      ]
     },
     "metadata": {},
     "output_type": "display_data"
    },
    {
     "data": {
      "application/javascript": [
       "require.undef(\"nbextensions/vpython_libraries/glowcomm\");"
      ],
      "text/plain": [
       "<IPython.core.display.Javascript object>"
      ]
     },
     "metadata": {},
     "output_type": "display_data"
    },
    {
     "data": {
      "application/javascript": [
       "require.undef(\"nbextensions/vpython_libraries/jquery-ui.custom.min\");"
      ],
      "text/plain": [
       "<IPython.core.display.Javascript object>"
      ]
     },
     "metadata": {},
     "output_type": "display_data"
    },
    {
     "data": {
      "application/javascript": [
       "require([\"nbextensions/vpython_libraries/glow.min\"], function(){console.log(\"GLOW LOADED\");})"
      ],
      "text/plain": [
       "<IPython.core.display.Javascript object>"
      ]
     },
     "metadata": {},
     "output_type": "display_data"
    },
    {
     "data": {
      "application/javascript": [
       "require([\"nbextensions/vpython_libraries/glowcomm\"], function(){console.log(\"GLOWCOMM LOADED\");})"
      ],
      "text/plain": [
       "<IPython.core.display.Javascript object>"
      ]
     },
     "metadata": {},
     "output_type": "display_data"
    },
    {
     "data": {
      "application/javascript": [
       "require([\"nbextensions/vpython_libraries/jquery-ui.custom.min\"], function(){console.log(\"JQUERY LOADED\");})"
      ],
      "text/plain": [
       "<IPython.core.display.Javascript object>"
      ]
     },
     "metadata": {},
     "output_type": "display_data"
    },
    {
     "data": {
      "text/html": [
       "<div id=\"glowscript\" class=\"glowscript\"></div>"
      ],
      "text/plain": [
       "<IPython.core.display.HTML object>"
      ]
     },
     "metadata": {},
     "output_type": "display_data"
    },
    {
     "data": {
      "application/javascript": [
       "window.__context = { glowscript_container: $(\"#glowscript\").removeAttr(\"id\")}"
      ],
      "text/plain": [
       "<IPython.core.display.Javascript object>"
      ]
     },
     "metadata": {},
     "output_type": "display_data"
    }
   ],
   "source": [
    "from vpython import sphere, cylinder, color, display, rate, vector\n",
    "\n",
    "### Animate the solution\n",
    "\n",
    "# first set up the objects:\n",
    "pivot = vector(0,0,0) # pivot point at centre of display\n",
    "\n",
    "### For the undamped system:\n",
    "# the rigid rod connecting the bob to the pivot point...\n",
    "rod = cylinder(pos=pivot, axis = vector(L*np.sin(initialTheta),-L*np.cos(initialTheta),0), \n",
    "                      radius = 0.01, color=color.red)\n",
    "# ...and the bob.\n",
    "bob = sphere(pos=vector(L*np.sin(initialTheta),-L*np.cos(initialTheta),0), \n",
    "                      radius = 0.1, color=color.blue)\n",
    "\n",
    "\n",
    "### For the damped system:\n",
    "# the rigid rod connecting the bob to the pivot point...\n",
    "rod_d = cylinder(pos=pivot, axis = vector(L*np.sin(initialTheta),-L*np.cos(initialTheta),0), \n",
    "                      radius = 0.01, color=color.green, opacity = 0.5)\n",
    "# ...and the bob.\n",
    "bob_d = sphere(pos=vector(L*np.sin(initialTheta),-L*np.cos(initialTheta),0), \n",
    "                      radius = 0.1, color=color.cyan, opacity = 0.5)\n",
    "\n",
    "# Loop over the solution already calculated    \n",
    "for i in range(0,N):\n",
    "    \n",
    "    ## undamped system:\n",
    "    angle = rsol[0,i] \n",
    "    #  change the axis of the bob\n",
    "    rod.axis = vector(L*np.sin(angle), -L*np.cos(angle),0)\n",
    "    #update the position of the bob:\n",
    "    bob.pos = vector(L*np.sin(angle),-L*np.cos(angle),0)\n",
    "    \n",
    "    ## damped system:\n",
    "    angle_d = rsol_d[0,i]\n",
    "    rod_d.axis = vector(L*np.sin(angle_d), -L*np.cos(angle_d),0)\n",
    "    bob_d.pos = vector(L*np.sin(angle_d),-L*np.cos(angle_d),0)\n",
    "    \n",
    "    rate(50) # framerate"
   ]
  },
  {
   "cell_type": "code",
   "execution_count": null,
   "metadata": {
    "collapsed": true
   },
   "outputs": [],
   "source": []
  }
 ],
 "metadata": {
  "anaconda-cloud": {},
  "kernelspec": {
   "display_name": "Python [Root]",
   "language": "python",
   "name": "Python [Root]"
  },
  "language_info": {
   "codemirror_mode": {
    "name": "ipython",
    "version": 2
   },
   "file_extension": ".py",
   "mimetype": "text/x-python",
   "name": "python",
   "nbconvert_exporter": "python",
   "pygments_lexer": "ipython2",
   "version": "2.7.12"
  }
 },
 "nbformat": 4,
 "nbformat_minor": 0
}
